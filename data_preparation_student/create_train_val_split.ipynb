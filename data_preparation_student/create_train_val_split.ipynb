{
 "cells": [
  {
   "cell_type": "code",
   "execution_count": 1,
   "metadata": {},
   "outputs": [
    {
     "data": {
      "text/html": [
       "<div>\n",
       "<style scoped>\n",
       "    .dataframe tbody tr th:only-of-type {\n",
       "        vertical-align: middle;\n",
       "    }\n",
       "\n",
       "    .dataframe tbody tr th {\n",
       "        vertical-align: top;\n",
       "    }\n",
       "\n",
       "    .dataframe thead th {\n",
       "        text-align: right;\n",
       "    }\n",
       "</style>\n",
       "<table border=\"1\" class=\"dataframe\">\n",
       "  <thead>\n",
       "    <tr style=\"text-align: right;\">\n",
       "      <th></th>\n",
       "      <th>Uhrzeit</th>\n",
       "      <th>SECCI</th>\n",
       "      <th>Temperatur</th>\n",
       "      <th>Salinität</th>\n",
       "      <th>NO2</th>\n",
       "      <th>NO3</th>\n",
       "      <th>NOx</th>\n",
       "      <th>year</th>\n",
       "      <th>day</th>\n",
       "      <th>month</th>\n",
       "      <th>hour</th>\n",
       "      <th>minutes</th>\n",
       "      <th>weekday</th>\n",
       "      <th>time_as_number</th>\n",
       "      <th>date_time</th>\n",
       "      <th>missing_values</th>\n",
       "    </tr>\n",
       "    <tr>\n",
       "      <th>Datum</th>\n",
       "      <th></th>\n",
       "      <th></th>\n",
       "      <th></th>\n",
       "      <th></th>\n",
       "      <th></th>\n",
       "      <th></th>\n",
       "      <th></th>\n",
       "      <th></th>\n",
       "      <th></th>\n",
       "      <th></th>\n",
       "      <th></th>\n",
       "      <th></th>\n",
       "      <th></th>\n",
       "      <th></th>\n",
       "      <th></th>\n",
       "      <th></th>\n",
       "    </tr>\n",
       "  </thead>\n",
       "  <tbody>\n",
       "    <tr>\n",
       "      <th>02.01.1962</th>\n",
       "      <td>9:00</td>\n",
       "      <td>NaN</td>\n",
       "      <td>4.6</td>\n",
       "      <td>NaN</td>\n",
       "      <td>NaN</td>\n",
       "      <td>NaN</td>\n",
       "      <td>NaN</td>\n",
       "      <td>1962</td>\n",
       "      <td>2</td>\n",
       "      <td>1</td>\n",
       "      <td>9.0</td>\n",
       "      <td>0</td>\n",
       "      <td>1</td>\n",
       "      <td>9.0</td>\n",
       "      <td>1962-01-02 09:00:00</td>\n",
       "      <td>5</td>\n",
       "    </tr>\n",
       "    <tr>\n",
       "      <th>03.01.1962</th>\n",
       "      <td>9:00</td>\n",
       "      <td>NaN</td>\n",
       "      <td>5.1</td>\n",
       "      <td>NaN</td>\n",
       "      <td>NaN</td>\n",
       "      <td>NaN</td>\n",
       "      <td>NaN</td>\n",
       "      <td>1962</td>\n",
       "      <td>3</td>\n",
       "      <td>1</td>\n",
       "      <td>9.0</td>\n",
       "      <td>0</td>\n",
       "      <td>2</td>\n",
       "      <td>9.0</td>\n",
       "      <td>1962-01-03 09:00:00</td>\n",
       "      <td>5</td>\n",
       "    </tr>\n",
       "    <tr>\n",
       "      <th>04.01.1962</th>\n",
       "      <td>9:00</td>\n",
       "      <td>NaN</td>\n",
       "      <td>4.3</td>\n",
       "      <td>NaN</td>\n",
       "      <td>NaN</td>\n",
       "      <td>NaN</td>\n",
       "      <td>NaN</td>\n",
       "      <td>1962</td>\n",
       "      <td>4</td>\n",
       "      <td>1</td>\n",
       "      <td>9.0</td>\n",
       "      <td>0</td>\n",
       "      <td>3</td>\n",
       "      <td>9.0</td>\n",
       "      <td>1962-01-04 09:00:00</td>\n",
       "      <td>5</td>\n",
       "    </tr>\n",
       "    <tr>\n",
       "      <th>05.01.1962</th>\n",
       "      <td>9:00</td>\n",
       "      <td>NaN</td>\n",
       "      <td>5.1</td>\n",
       "      <td>NaN</td>\n",
       "      <td>NaN</td>\n",
       "      <td>NaN</td>\n",
       "      <td>NaN</td>\n",
       "      <td>1962</td>\n",
       "      <td>5</td>\n",
       "      <td>1</td>\n",
       "      <td>9.0</td>\n",
       "      <td>0</td>\n",
       "      <td>4</td>\n",
       "      <td>9.0</td>\n",
       "      <td>1962-01-05 09:00:00</td>\n",
       "      <td>5</td>\n",
       "    </tr>\n",
       "    <tr>\n",
       "      <th>08.01.1962</th>\n",
       "      <td>9:00</td>\n",
       "      <td>NaN</td>\n",
       "      <td>5.1</td>\n",
       "      <td>NaN</td>\n",
       "      <td>NaN</td>\n",
       "      <td>NaN</td>\n",
       "      <td>NaN</td>\n",
       "      <td>1962</td>\n",
       "      <td>8</td>\n",
       "      <td>1</td>\n",
       "      <td>9.0</td>\n",
       "      <td>0</td>\n",
       "      <td>0</td>\n",
       "      <td>9.0</td>\n",
       "      <td>1962-01-08 09:00:00</td>\n",
       "      <td>5</td>\n",
       "    </tr>\n",
       "  </tbody>\n",
       "</table>\n",
       "</div>"
      ],
      "text/plain": [
       "           Uhrzeit  SECCI  Temperatur  Salinität  NO2  NO3  NOx  year  day  \\\n",
       "Datum                                                                        \n",
       "02.01.1962    9:00    NaN         4.6        NaN  NaN  NaN  NaN  1962    2   \n",
       "03.01.1962    9:00    NaN         5.1        NaN  NaN  NaN  NaN  1962    3   \n",
       "04.01.1962    9:00    NaN         4.3        NaN  NaN  NaN  NaN  1962    4   \n",
       "05.01.1962    9:00    NaN         5.1        NaN  NaN  NaN  NaN  1962    5   \n",
       "08.01.1962    9:00    NaN         5.1        NaN  NaN  NaN  NaN  1962    8   \n",
       "\n",
       "            month  hour  minutes  weekday  time_as_number  \\\n",
       "Datum                                                       \n",
       "02.01.1962      1   9.0        0        1             9.0   \n",
       "03.01.1962      1   9.0        0        2             9.0   \n",
       "04.01.1962      1   9.0        0        3             9.0   \n",
       "05.01.1962      1   9.0        0        4             9.0   \n",
       "08.01.1962      1   9.0        0        0             9.0   \n",
       "\n",
       "                      date_time  missing_values  \n",
       "Datum                                            \n",
       "02.01.1962  1962-01-02 09:00:00               5  \n",
       "03.01.1962  1962-01-03 09:00:00               5  \n",
       "04.01.1962  1962-01-04 09:00:00               5  \n",
       "05.01.1962  1962-01-05 09:00:00               5  \n",
       "08.01.1962  1962-01-08 09:00:00               5  "
      ]
     },
     "execution_count": 1,
     "metadata": {},
     "output_type": "execute_result"
    }
   ],
   "source": [
    "import matplotlib.pyplot as plt\n",
    "import datetime\n",
    "import numpy as np\n",
    "import seaborn as sns\n",
    "import pandas as pd\n",
    "import os \n",
    "\n",
    "df = pd.read_csv('../data/trainings_df.csv',index_col=0)\n",
    "df.pop('missing_values')\n",
    "df['missing_values'] = df.isna().sum(axis=1)\n",
    "df.head()"
   ]
  },
  {
   "cell_type": "code",
   "execution_count": 2,
   "metadata": {},
   "outputs": [
    {
     "data": {
      "text/html": [
       "<div>\n",
       "<style scoped>\n",
       "    .dataframe tbody tr th:only-of-type {\n",
       "        vertical-align: middle;\n",
       "    }\n",
       "\n",
       "    .dataframe tbody tr th {\n",
       "        vertical-align: top;\n",
       "    }\n",
       "\n",
       "    .dataframe thead th {\n",
       "        text-align: right;\n",
       "    }\n",
       "</style>\n",
       "<table border=\"1\" class=\"dataframe\">\n",
       "  <thead>\n",
       "    <tr style=\"text-align: right;\">\n",
       "      <th></th>\n",
       "      <th>Uhrzeit</th>\n",
       "      <th>SECCI</th>\n",
       "      <th>Temperatur</th>\n",
       "      <th>Salinität</th>\n",
       "      <th>NO2</th>\n",
       "      <th>NO3</th>\n",
       "      <th>NOx</th>\n",
       "      <th>year</th>\n",
       "      <th>day</th>\n",
       "      <th>month</th>\n",
       "      <th>hour</th>\n",
       "      <th>minutes</th>\n",
       "      <th>weekday</th>\n",
       "      <th>time_as_number</th>\n",
       "      <th>date_time</th>\n",
       "      <th>missing_values</th>\n",
       "      <th>datum</th>\n",
       "    </tr>\n",
       "  </thead>\n",
       "  <tbody>\n",
       "    <tr>\n",
       "      <th>1962-01-02 09:00:00</th>\n",
       "      <td>9:00</td>\n",
       "      <td>NaN</td>\n",
       "      <td>4.6</td>\n",
       "      <td>NaN</td>\n",
       "      <td>NaN</td>\n",
       "      <td>NaN</td>\n",
       "      <td>NaN</td>\n",
       "      <td>1962</td>\n",
       "      <td>2</td>\n",
       "      <td>1</td>\n",
       "      <td>9.0</td>\n",
       "      <td>0</td>\n",
       "      <td>1</td>\n",
       "      <td>9.0</td>\n",
       "      <td>1962-01-02 09:00:00</td>\n",
       "      <td>5</td>\n",
       "      <td>02.01.1962</td>\n",
       "    </tr>\n",
       "  </tbody>\n",
       "</table>\n",
       "</div>"
      ],
      "text/plain": [
       "                    Uhrzeit  SECCI  Temperatur  Salinität  NO2  NO3  NOx  \\\n",
       "1962-01-02 09:00:00    9:00    NaN         4.6        NaN  NaN  NaN  NaN   \n",
       "\n",
       "                     year  day  month  hour  minutes  weekday  time_as_number  \\\n",
       "1962-01-02 09:00:00  1962    2      1   9.0        0        1             9.0   \n",
       "\n",
       "                               date_time  missing_values       datum  \n",
       "1962-01-02 09:00:00  1962-01-02 09:00:00               5  02.01.1962  "
      ]
     },
     "execution_count": 2,
     "metadata": {},
     "output_type": "execute_result"
    }
   ],
   "source": [
    "df['datum'] = df.index\n",
    "df.index = pd.to_datetime(df.index + \" \" + df.Uhrzeit,format='%d.%m.%Y %H:%M')\n",
    "df['time_as_number'] = df.index.hour + df.index.minute/60\n",
    "df.head(1)"
   ]
  },
  {
   "cell_type": "code",
   "execution_count": 3,
   "metadata": {},
   "outputs": [],
   "source": [
    "submission_ds = pd.read_csv('../data/bbdc_student/bbdc_2023_AWI_data_evaluate_skeleton_student.csv', delimiter=';',skiprows=[1],index_col=0)\n",
    "submission_ds['datum'] =submission_ds.index\n",
    "submission_ds.index = pd.to_datetime(submission_ds.index + \" \" + submission_ds.Uhrzeit,format='%d.%m.%Y %H:%M')\n",
    "submission_ds\n",
    "\n",
    "submission_ds['time_as_number'] = submission_ds.index.hour + submission_ds.index.minute/60\n",
    "\n",
    "times = pd.concat((df[['time_as_number','datum']], submission_ds[['time_as_number','datum']])).set_index('datum')\n",
    "times.index = pd.to_datetime(times.index,format='%d.%m.%Y')"
   ]
  },
  {
   "cell_type": "code",
   "execution_count": 4,
   "metadata": {},
   "outputs": [
    {
     "data": {
      "text/plain": [
       "Index(['SECCI', 'Temperatur', 'Salinität', 'NO2', 'NO3', 'NOx'], dtype='object')"
      ]
     },
     "execution_count": 4,
     "metadata": {},
     "output_type": "execute_result"
    }
   ],
   "source": [
    "cols = df.isna().sum(0)\n",
    "cols = cols.loc[cols > 0].index\n",
    "cols "
   ]
  },
  {
   "attachments": {},
   "cell_type": "markdown",
   "metadata": {},
   "source": [
    "Method interpolate with time was best"
   ]
  },
  {
   "cell_type": "code",
   "execution_count": 5,
   "metadata": {},
   "outputs": [],
   "source": [
    "df.loc[:,cols] = df[cols].interpolate(method='time')"
   ]
  },
  {
   "cell_type": "code",
   "execution_count": 6,
   "metadata": {},
   "outputs": [],
   "source": [
    "df.index = pd.to_datetime(df.datum,format='%d.%m.%Y')"
   ]
  },
  {
   "cell_type": "code",
   "execution_count": 7,
   "metadata": {},
   "outputs": [
    {
     "data": {
      "text/plain": [
       "Uhrzeit              0\n",
       "SECCI             1343\n",
       "Temperatur           0\n",
       "Salinität            6\n",
       "NO2                  6\n",
       "NO3                  6\n",
       "NOx               9996\n",
       "year                 0\n",
       "day                  0\n",
       "month                0\n",
       "hour                 0\n",
       "minutes              0\n",
       "weekday              0\n",
       "time_as_number       0\n",
       "date_time            0\n",
       "missing_values       0\n",
       "datum                0\n",
       "dtype: int64"
      ]
     },
     "execution_count": 7,
     "metadata": {},
     "output_type": "execute_result"
    }
   ],
   "source": [
    "df.isna().sum()"
   ]
  },
  {
   "cell_type": "code",
   "execution_count": 8,
   "metadata": {},
   "outputs": [],
   "source": [
    "df = df.loc[df.index.year >= 1968] "
   ]
  },
  {
   "cell_type": "code",
   "execution_count": 9,
   "metadata": {},
   "outputs": [],
   "source": [
    "#df.loc[df.SECCI.isna(),'SECCI'] = df.SECCI.mean() + np.random.normal(0,0.2,size=(df.SECCI.isna().sum()))\n",
    "df.loc[df.NO3.isna(),'Salinität'] = df.Salinität.mean() + np.random.normal(0,0.2,size=(df.Salinität.isna().sum()))\n",
    "df.loc[df.NO3.isna(),'NO2'] = df.NO2.mean() + np.random.normal(0,0.2,size=(df.NO2.isna().sum()))\n",
    "df.loc[df.NO3.isna(),'NO3'] = df.NO3.mean() + np.random.normal(0,0.2,size=(df.NO3.isna().sum()))"
   ]
  },
  {
   "cell_type": "code",
   "execution_count": 10,
   "metadata": {},
   "outputs": [],
   "source": [
    "import json\n",
    "with open('../data/bbdc_student/means.json',\"r\") as f:\n",
    "    means = pd.Series(json.load(f))\n",
    "    \n",
    "with open('../data/bbdc_student/variances.json',\"r\") as f:\n",
    "    stds = pd.Series(json.load(f))\n",
    "    stds = np.sqrt(stds)"
   ]
  },
  {
   "cell_type": "code",
   "execution_count": 11,
   "metadata": {},
   "outputs": [
    {
     "data": {
      "text/plain": [
       "SECCI          3.675383\n",
       "Temperatur    10.480963\n",
       "Salinität     32.217400\n",
       "NO2            0.553468\n",
       "NO3            9.538840\n",
       "NOx           10.094147\n",
       "dtype: float64"
      ]
     },
     "execution_count": 11,
     "metadata": {},
     "output_type": "execute_result"
    }
   ],
   "source": [
    "means"
   ]
  },
  {
   "cell_type": "code",
   "execution_count": 12,
   "metadata": {},
   "outputs": [
    {
     "data": {
      "text/plain": [
       "SECCI         1.804576\n",
       "Temperatur    4.984322\n",
       "Salinität     1.054333\n",
       "NO2           0.716608\n",
       "NO3           8.747042\n",
       "NOx           8.889739\n",
       "dtype: float64"
      ]
     },
     "execution_count": 12,
     "metadata": {},
     "output_type": "execute_result"
    }
   ],
   "source": [
    "stds"
   ]
  },
  {
   "cell_type": "code",
   "execution_count": 13,
   "metadata": {},
   "outputs": [],
   "source": [
    "df = df[stds.index]"
   ]
  },
  {
   "cell_type": "code",
   "execution_count": 14,
   "metadata": {},
   "outputs": [
    {
     "data": {
      "image/png": "[encoded data removed]",
      "text/plain": [
       "<Figure size 1200x600 with 1 Axes>"
      ]
     },
     "metadata": {},
     "output_type": "display_data"
    }
   ],
   "source": [
    "df = (df- means) / stds\n",
    "\n",
    "\n",
    "df_std = df.melt(var_name='Column', value_name='Normalized').dropna()\n",
    "plt.figure(figsize=(12, 6))\n",
    "ax = sns.violinplot(x='Column', y='Normalized', data=df_std)\n",
    "plt.xticks(rotation = 45)\n",
    "plt.title(\"Value Distribution\")\n",
    "plt.show()"
   ]
  },
  {
   "cell_type": "code",
   "execution_count": 15,
   "metadata": {},
   "outputs": [
    {
     "data": {
      "text/html": [
       "<div>\n",
       "<style scoped>\n",
       "    .dataframe tbody tr th:only-of-type {\n",
       "        vertical-align: middle;\n",
       "    }\n",
       "\n",
       "    .dataframe tbody tr th {\n",
       "        vertical-align: top;\n",
       "    }\n",
       "\n",
       "    .dataframe thead th {\n",
       "        text-align: right;\n",
       "    }\n",
       "</style>\n",
       "<table border=\"1\" class=\"dataframe\">\n",
       "  <thead>\n",
       "    <tr style=\"text-align: right;\">\n",
       "      <th></th>\n",
       "      <th>count</th>\n",
       "      <th>mean</th>\n",
       "      <th>std</th>\n",
       "      <th>min</th>\n",
       "      <th>25%</th>\n",
       "      <th>50%</th>\n",
       "      <th>75%</th>\n",
       "      <th>max</th>\n",
       "    </tr>\n",
       "  </thead>\n",
       "  <tbody>\n",
       "    <tr>\n",
       "      <th>SECCI</th>\n",
       "      <td>10114.0</td>\n",
       "      <td>-0.087815</td>\n",
       "      <td>1.008570</td>\n",
       "      <td>-2.036702</td>\n",
       "      <td>-0.928408</td>\n",
       "      <td>-0.208017</td>\n",
       "      <td>0.623203</td>\n",
       "      <td>4.890133</td>\n",
       "    </tr>\n",
       "    <tr>\n",
       "      <th>Temperatur</th>\n",
       "      <td>10117.0</td>\n",
       "      <td>-0.048453</td>\n",
       "      <td>1.012598</td>\n",
       "      <td>-2.223163</td>\n",
       "      <td>-0.979263</td>\n",
       "      <td>-0.076432</td>\n",
       "      <td>0.926713</td>\n",
       "      <td>1.949922</td>\n",
       "    </tr>\n",
       "    <tr>\n",
       "      <th>Salinität</th>\n",
       "      <td>10117.0</td>\n",
       "      <td>-0.114838</td>\n",
       "      <td>1.177372</td>\n",
       "      <td>-8.984260</td>\n",
       "      <td>-0.735442</td>\n",
       "      <td>0.050837</td>\n",
       "      <td>0.712972</td>\n",
       "      <td>3.688209</td>\n",
       "    </tr>\n",
       "    <tr>\n",
       "      <th>NO2</th>\n",
       "      <td>10117.0</td>\n",
       "      <td>0.382806</td>\n",
       "      <td>1.039082</td>\n",
       "      <td>-0.765082</td>\n",
       "      <td>-0.311842</td>\n",
       "      <td>0.064933</td>\n",
       "      <td>0.776619</td>\n",
       "      <td>8.019069</td>\n",
       "    </tr>\n",
       "    <tr>\n",
       "      <th>NO3</th>\n",
       "      <td>10117.0</td>\n",
       "      <td>0.657962</td>\n",
       "      <td>1.728017</td>\n",
       "      <td>-1.089379</td>\n",
       "      <td>-0.588638</td>\n",
       "      <td>0.124746</td>\n",
       "      <td>1.398319</td>\n",
       "      <td>14.709104</td>\n",
       "    </tr>\n",
       "    <tr>\n",
       "      <th>NOx</th>\n",
       "      <td>1461.0</td>\n",
       "      <td>0.058226</td>\n",
       "      <td>1.208258</td>\n",
       "      <td>-1.134358</td>\n",
       "      <td>-0.890256</td>\n",
       "      <td>-0.315436</td>\n",
       "      <td>0.570979</td>\n",
       "      <td>5.289903</td>\n",
       "    </tr>\n",
       "  </tbody>\n",
       "</table>\n",
       "</div>"
      ],
      "text/plain": [
       "              count      mean       std       min       25%       50%  \\\n",
       "SECCI       10114.0 -0.087815  1.008570 -2.036702 -0.928408 -0.208017   \n",
       "Temperatur  10117.0 -0.048453  1.012598 -2.223163 -0.979263 -0.076432   \n",
       "Salinität   10117.0 -0.114838  1.177372 -8.984260 -0.735442  0.050837   \n",
       "NO2         10117.0  0.382806  1.039082 -0.765082 -0.311842  0.064933   \n",
       "NO3         10117.0  0.657962  1.728017 -1.089379 -0.588638  0.124746   \n",
       "NOx          1461.0  0.058226  1.208258 -1.134358 -0.890256 -0.315436   \n",
       "\n",
       "                 75%        max  \n",
       "SECCI       0.623203   4.890133  \n",
       "Temperatur  0.926713   1.949922  \n",
       "Salinität   0.712972   3.688209  \n",
       "NO2         0.776619   8.019069  \n",
       "NO3         1.398319  14.709104  \n",
       "NOx         0.570979   5.289903  "
      ]
     },
     "execution_count": 15,
     "metadata": {},
     "output_type": "execute_result"
    }
   ],
   "source": [
    "df.describe().T"
   ]
  },
  {
   "cell_type": "code",
   "execution_count": 16,
   "metadata": {},
   "outputs": [],
   "source": [
    "df.to_csv('../data/data_for_darts_normalized_by_test.csv')"
   ]
  },
  {
   "cell_type": "code",
   "execution_count": null,
   "metadata": {},
   "outputs": [],
   "source": []
  }
 ],
 "metadata": {
  "kernelspec": {
   "display_name": "bbdc",
   "language": "python",
   "name": "python3"
  },
  "language_info": {
   "codemirror_mode": {
    "name": "ipython",
    "version": 3
   },
   "file_extension": ".py",
   "mimetype": "text/x-python",
   "name": "python",
   "nbconvert_exporter": "python",
   "pygments_lexer": "ipython3",
   "version": "3.10.9"
  },
  "orig_nbformat": 4,
  "vscode": {
   "interpreter": {
    "hash": "0c0911942692cfbe7fa3662fa0987c0e3e11bf34a3aedaeeac1c1a0894865cde"
   }
  }
 },
 "nbformat": 4,
 "nbformat_minor": 2
}
