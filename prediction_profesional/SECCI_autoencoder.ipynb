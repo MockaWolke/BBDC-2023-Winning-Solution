{
 "cells": [
  {
   "attachments": {},
   "cell_type": "markdown",
   "metadata": {},
   "source": [
    "The first part of this notebook comrpesses the hourly weather data using a variational autoencoder"
   ]
  },
  {
   "cell_type": "code",
   "execution_count": null,
   "metadata": {},
   "outputs": [],
   "source": [
    "import torch\n",
    "import pandas as pd\n",
    "import numpy as np\n",
    "import os\n",
    "from tqdm import tqdm\n",
    "import torchvision\n",
    "from torch.utils.data import Dataset, DataLoader"
   ]
  },
  {
   "cell_type": "code",
   "execution_count": null,
   "metadata": {},
   "outputs": [],
   "source": [
    "def get_data():\n",
    "    dataframes = []\n",
    "    dir = \"../data/data_hourly_raw_new\"\n",
    "    for file in os.listdir(dir):\n",
    "        df = pd.read_csv(os.path.join(dir, file),index_col=False)\n",
    "        df[\"Zeitstempel\"] = pd.to_datetime(df[\"Zeitstempel\"],format=\"%Y-%m-%dT%H:%M:%S\")\n",
    "        df = df.set_index(\"Zeitstempel\")\n",
    "        df = df.resample('H').asfreq()\n",
    "        df[\"Wert\"] = df[\"Wert\"].interpolate(method='time').fillna(method='bfill')\n",
    "        df[\"Wert\"] = (df[\"Wert\"] - df[\"Wert\"].mean())/df[\"Wert\"].std()\n",
    "        if(df.index[0] > pd.to_datetime(\"1981-01-01\") or df.index[-1] < pd.to_datetime(\"2017-01-01\")):\n",
    "            continue\n",
    "        else:\n",
    "            dataframes.append(df)\n",
    "\n",
    "    day_data = {}\n",
    "    for current_date in tqdm(pd.date_range(start=pd.to_datetime(\"1981-01-01\"),end=pd.to_datetime(\"2017-01-01\"))):\n",
    "        day_data[current_date] = []\n",
    "        for df in dataframes:\n",
    "            df_in_time = df.loc[(df.index >= current_date) & (df.index < current_date + pd.Timedelta(days=1))]\n",
    "            wert = df_in_time[\"Wert\"].ravel()\n",
    "            if not len(wert) == 24:\n",
    "                print(df_in_time)\n",
    "                return\n",
    "            day_data[current_date].extend(wert)\n",
    "\n",
    "    return day_data\n"
   ]
  },
  {
   "cell_type": "code",
   "execution_count": null,
   "metadata": {},
   "outputs": [],
   "source": [
    "# merge all hourly weather data points into a single dataframe. Also interpolate missing values\n",
    "day_data = get_data()"
   ]
  },
  {
   "cell_type": "code",
   "execution_count": null,
   "metadata": {},
   "outputs": [],
   "source": [
    "class Encoder(torch.nn.Module):\n",
    "    def __init__(self, encoding_dim):\n",
    "        super(Encoder, self).__init__()\n",
    "\n",
    "        self._encoding_dim = encoding_dim\n",
    "\n",
    "        self.f1 = torch.nn.Linear(len(list(day_data.values())[0]),512)\n",
    "        self.f2 = torch.nn.Linear(512,256)\n",
    "        self.relu = torch.nn.ReLU()\n",
    "        self._dense_mu = torch.nn.Linear(256,encoding_dim)\n",
    "        self._dense_sigma = torch.nn.Linear(256,encoding_dim)\n",
    "\n",
    "        # Alexander, Van de Kleut (2020) [Source code] https://avandekleut.github.io/vae/\n",
    "        self._normal_dist = torch.distributions.Normal(0, 1)\n",
    "        self._normal_dist.loc = self._normal_dist.loc.cuda()\n",
    "        self._normal_dist.scale = self._normal_dist.scale.cuda()\n",
    "\n",
    "    def forward(self, x):\n",
    "\n",
    "        x = self.relu(self.f2(self.relu(self.f1(x))))\n",
    "\n",
    "        mu = self._dense_mu(x)\n",
    "        sigma = self._dense_sigma(x)\n",
    "\n",
    "        return mu, sigma\n",
    "\n",
    "    def sample(self, mu, sigma):\n",
    "        return torch.exp(sigma)*self._normal_dist.sample(mu.size()) + mu\n",
    "\n",
    "class Decoder(torch.nn.Module):\n",
    "    def __init__(self, encoding_dim):\n",
    "        super(Decoder, self).__init__()\n",
    "        self._encoding_dim = encoding_dim\n",
    "\n",
    "        self.f1 = torch.nn.Linear(encoding_dim,256)\n",
    "        self.f2 = torch.nn.Linear(256,512)\n",
    "        self.f3 = torch.nn.Linear(512,len(list(day_data.values())[0]))\n",
    "        self.relu = torch.nn.ReLU()\n",
    "\n",
    "    def forward(self, x):\n",
    "        \n",
    "        x = self.f3(self.relu(self.f2(self.relu(self.f1(x)))))\n",
    "\n",
    "        return x\n",
    "        \n",
    "class AutoEncoder(torch.nn.Module):\n",
    "    def __init__(self, encoding_dim):\n",
    "        super(AutoEncoder, self).__init__()\n",
    "        self._encoder = Encoder(encoding_dim)\n",
    "        self._decoder = Decoder(encoding_dim)\n",
    "\n",
    "\n",
    "class CustomDataset(Dataset):\n",
    "    def __init__(self, day_data):\n",
    "        self.day_data = list(day_data.values())\n",
    "\n",
    "    def __len__(self):\n",
    "        return len(self.day_data)\n",
    "    \n",
    "    def __getitem__(self, idx):\n",
    "        return torch.tensor(self.day_data[idx]).to(torch.float32)\n",
    "    \n",
    "\n",
    "dataset = CustomDataset(day_data)\n",
    "data_loader = DataLoader(dataset=dataset,batch_size=64,shuffle=True)\n"
   ]
  },
  {
   "cell_type": "code",
   "execution_count": null,
   "metadata": {},
   "outputs": [],
   "source": [
    "autoencoder = AutoEncoder(16)\n",
    "autoencoder.to(torch.device(\"cuda\"))\n",
    "\n",
    "optimizer = torch.optim.Adam(lr = 0.0001, params = autoencoder.parameters())\n",
    "\n",
    "for epoch in range(500):\n",
    "\n",
    "    loss_agg = []\n",
    "\n",
    "\n",
    "\n",
    "    for vector in tqdm(data_loader):\n",
    "\n",
    "        optimizer.zero_grad()\n",
    "        \n",
    "        input = vector.cuda()\n",
    "\n",
    "        # get mu and sigma from the image\n",
    "        mu,sigma = autoencoder._encoder(input)\n",
    "\n",
    "        # get the corresponding embedding from mu and sigma\n",
    "        encoded = autoencoder._encoder.sample(mu,sigma)\n",
    "        \n",
    "        # decode the image\n",
    "        decoded = autoencoder._decoder(encoded)\n",
    "\n",
    "        # Alexander, Van de Kleut (2020) [Source code] https://avandekleut.github.io/vae/\n",
    "        # hwalsuklee (2017) [Source code] https://github.com/hwalsuklee/tensorflow-mnist-VAE/blob/master/vae.py\n",
    "        loss = ((input - decoded)**2).sum() + 0.5*(mu**2 + sigma**2 - torch.log(sigma**2 + 0.0000001) -1).sum()\n",
    "        loss = loss/32\n",
    "    \n",
    "        loss.backward()\n",
    "        optimizer.step()\n",
    "\n",
    "        loss_agg.append(loss)\n",
    "\n",
    "    print(\"ended epoch: \", epoch , \" with loss: \", torch.tensor(loss_agg).sum()/4000)\n",
    "\n",
    "    # save the weights for further usage\n",
    "    torch.save(autoencoder.state_dict(), \"./weights_16.pth\")"
   ]
  },
  {
   "cell_type": "code",
   "execution_count": null,
   "metadata": {},
   "outputs": [],
   "source": [
    "day_data_encoded = dict()\n",
    "for key,value in tqdm(day_data.items()):\n",
    "    input = torch.unsqueeze(torch.tensor(value).to(torch.float32),dim=0).cuda()\n",
    "    encoded = autoencoder._encoder.sample(*autoencoder._encoder(input))\n",
    "    day_data_encoded[key] = torch.squeeze(encoded,dim=0).cpu().detach().numpy()\n",
    "\n",
    "df = pd.DataFrame.from_dict(day_data_encoded, orient='index')\n",
    "df.to_csv(\"../data/day_data_encoded_16.csv\",index=True)"
   ]
  },
  {
   "attachments": {},
   "cell_type": "markdown",
   "metadata": {},
   "source": [
    "This was the compressing using the autoencoder. Now use these to predict SECCI"
   ]
  },
  {
   "cell_type": "code",
   "execution_count": 3,
   "metadata": {},
   "outputs": [],
   "source": [
    "import warnings\n",
    "warnings.simplefilter(action='ignore', category=FutureWarning)\n",
    "warnings.simplefilter(action='ignore', category=UserWarning)\n",
    "import pandas as pd\n",
    "import numpy as np\n",
    "import matplotlib.pyplot as plt\n",
    "from darts.utils.missing_values import fill_missing_values\n",
    "from darts import TimeSeries\n",
    "import sys\n",
    "from darts.metrics import rmse\n",
    "from darts.dataprocessing.transformers import Scaler\n",
    "\n",
    "\n",
    "# import seaborn as sns\n",
    "# plt.style.use('default')\n",
    "\n",
    "# sns.set_style()\n",
    "\n",
    "df = pd.read_csv('../data/pro_train.csv', index_col=0, parse_dates= True)\n",
    "val_df = df.loc[df.index.year > 2003]\n",
    "def get_timeseries(df):\n",
    "    series = TimeSeries.from_dataframe(df,freq = 'B') \n",
    "    series = fill_missing_values(series)\n",
    "    return series\n",
    "\n",
    "\n",
    "val = get_timeseries(val_df)\n",
    "before_2003  =  df.loc[df.index.year < 2003]\n",
    "train = get_timeseries(before_2003)\n",
    "def get_timeseries(df):\n",
    "    df = df.loc[df.index.weekday < 5]\n",
    "    series = TimeSeries.from_dataframe(df,freq = 'B') \n",
    "    series = fill_missing_values(series)\n",
    "    return series\n",
    "\n",
    "best_longer = pd.read_csv(\"../data/day_data_encoded_16.csv\",index_col=0,parse_dates=True)\n",
    "longer_covs = get_timeseries(best_longer)"
   ]
  },
  {
   "cell_type": "code",
   "execution_count": 4,
   "metadata": {},
   "outputs": [
    {
     "data": {
      "text/plain": [
       "<AxesSubplot:xlabel='Datum'>"
      ]
     },
     "execution_count": 4,
     "metadata": {},
     "output_type": "execute_result"
    },
    {
     "data": {
      "image/png": "[encoded data removed]",
      "text/plain": [
       "<Figure size 432x288 with 1 Axes>"
      ]
     },
     "metadata": {
      "needs_background": "light"
     },
     "output_type": "display_data"
    }
   ],
   "source": [
    "df.NOx.plot()"
   ]
  },
  {
   "cell_type": "code",
   "execution_count": 5,
   "metadata": {},
   "outputs": [],
   "source": [
    "cols = [\"SECCI\",\"Temperatur\",\"Salinität\",\"NO3\",\"NO2\",\"NOx\"]"
   ]
  },
  {
   "cell_type": "code",
   "execution_count": 6,
   "metadata": {},
   "outputs": [
    {
     "data": {
      "text/plain": [
       "0.05781493522554415"
      ]
     },
     "execution_count": 6,
     "metadata": {},
     "output_type": "execute_result"
    }
   ],
   "source": [
    "from sklearn.ensemble import GradientBoostingRegressor\n",
    "val_df = df.loc[(df.index.year == 2005) | (df.index.year == 2006)][cols]\n",
    "train_df = df.loc[df.index.year > 2006][cols]\n",
    "\n",
    "val_x = val_df.iloc[:,:5]\n",
    "val_y = val_df.NOx\n",
    "train_x =  train_df.iloc[:,:5]\n",
    "train_y = train_df.NOx\n",
    "\n",
    "\n",
    "switcher = GradientBoostingRegressor(random_state=0\n",
    ")\n",
    "\n",
    "switcher.fit(train_x,train_y)\n",
    "\n",
    "vals = switcher.predict(val_x)\n",
    "np.sqrt(np.mean(np.square(vals - val_y)))"
   ]
  },
  {
   "cell_type": "code",
   "execution_count": 7,
   "metadata": {},
   "outputs": [
    {
     "data": {
      "image/png": "[encoded data removed]",
      "text/plain": [
       "<Figure size 432x288 with 1 Axes>"
      ]
     },
     "metadata": {
      "needs_background": "light"
     },
     "output_type": "display_data"
    }
   ],
   "source": [
    "before_train = df.loc[df.index.year < 2004].copy().iloc[3:]\n",
    "\n",
    "data_df = df.iloc[3:].copy()\n",
    "\n",
    "data_df.loc[data_df.index.year < 2004,'NOx'] = switcher.predict(data_df.loc[data_df.index.year < 2004,cols].drop(columns = \"NOx\"))\n",
    "\n",
    "train1_a = get_timeseries(data_df.loc[ (data_df.index.year <= 2003)])\n",
    "train1_l = get_timeseries(data_df.loc[ (data_df.index.year <= 2003)])\n",
    "train2 = get_timeseries(data_df.loc[(data_df.index.year > 2004) & (data_df.index.year <= 2009)])\n",
    "\n",
    "val1 =  get_timeseries(data_df.loc[data_df.index.year == 2005])\n",
    "val2 =  get_timeseries(data_df.loc[data_df.index.year == 2010])\n",
    "\n",
    "train1_a['Temperatur'].plot(label = \"train\",c = \"blue\")\n",
    "train2['Temperatur'].plot(label = \"train\",c = \"blue\")\n",
    "val1['Temperatur'].plot(label = \"val\", c= \"black\")\n",
    "val2['Temperatur'].plot(label = \"val\", c= \"black\")"
   ]
  },
  {
   "cell_type": "code",
   "execution_count": 8,
   "metadata": {},
   "outputs": [],
   "source": [
    "catboost_params = {\"in_len\": 5, \"out_len\": 3, \"lags_lower\": 5, \"upper_lag\": 8, \"n_estimators\": 134, \"max_depth\": 4, \"learning_rate\": 0.13084064565367345, \"num_leaves\": 173, \"l2_leaf_reg\": 5.172287143378771, \"min_child_samples\": 13, \"subsample\": 0.8560640635268835, \"bagging_temperature\": 0.32430533153143304}"
   ]
  },
  {
   "cell_type": "code",
   "execution_count": 9,
   "metadata": {},
   "outputs": [],
   "source": [
    "from darts.models.forecasting.catboost_model import CatBoostModel\n",
    "\n",
    "def best_catboost(all = False):\n",
    "    params = catboost_params.copy()\n",
    "    in_len = int(params.pop('in_len'))\n",
    "    out_len = int(params.pop(\"out_len\"))\n",
    "\n",
    "\n",
    "    lags_lower = int(params.pop(\"lags_lower\")) \n",
    "    lags_upper = int(params.pop(\"upper_lag\"))\n",
    "\n",
    "    if not all:\n",
    "\n",
    "        return CatBoostModel(lags = in_len,\n",
    "                            lags_future_covariates = (lags_lower,lags_upper),\n",
    "                            output_chunk_length=out_len, random_state = 0,task_type='GPU', grow_policy = \"Depthwise\",)\n",
    "        \n",
    "    return CatBoostModel(lags = in_len,\n",
    "                        lags_future_covariates = (lags_lower,lags_upper),\n",
    "                        output_chunk_length=out_len, random_state = 0,task_type='GPU', bootstrap_type='Poisson',  grow_policy = \"Lossguide\",**params)"
   ]
  },
  {
   "cell_type": "code",
   "execution_count": 10,
   "metadata": {},
   "outputs": [],
   "source": [
    "from darts.metrics import mse\n",
    "def train_cols(model,columns,cov,train1):\n",
    "    model.fit([train1[columns],train2[columns]],future_covariates=[cov,cov])\n",
    "    \n",
    "    preds1 = model.predict(550,train1[columns],future_covariates=cov)\n",
    "    preds2 = model.predict(500,train2[columns],future_covariates=cov)\n",
    "    \n",
    "    loss1 = mse(val1[columns],preds1)\n",
    "    \n",
    "    loss2 = mse(val2[columns],preds2)\n",
    "    loss = np.sqrt((loss1 + loss2)/2)\n",
    "    \n",
    "    for c in columns:\n",
    "        l1 = mse(val1[c],preds1[c])\n",
    "        l2 = mse(val2[c],preds2[c])\n",
    "        l = np.sqrt((l1 + l2)/ 2)\n",
    "\n",
    "        print(f\"{c} - {l}\")\n",
    "    \n",
    "    return loss, "
   ]
  },
  {
   "cell_type": "code",
   "execution_count": 11,
   "metadata": {},
   "outputs": [
    {
     "name": "stderr",
     "output_type": "stream",
     "text": [
      "100%|██████████| 1/1 [00:36<00:00, 36.16s/it]\n"
     ]
    }
   ],
   "source": [
    "best = {(\"Temperatur\",\"SECCI\") : (\"Temperatur\",\"SECCI\",train1_l)}\n",
    "\n",
    "\n",
    "def extract_cols(train_columns,extract_column,train1):\n",
    "    model = best_catboost()\n",
    "    train_columns = list(train_columns)\n",
    "    extract_column = list(extract_column)\n",
    "    \n",
    "    model.fit([train1[train_columns],train2[train_columns]],future_covariates=[longer_covs,longer_covs])\n",
    "    \n",
    "    preds1 = model.predict(600,train1[train_columns],future_covariates=longer_covs).pd_dataframe()\n",
    "    \n",
    "    preds2 = model.predict(1500,val2[train_columns],future_covariates=longer_covs).pd_dataframe()\n",
    "    \n",
    "    df = pd.concat((preds1,preds2))[extract_column]\n",
    "    if isinstance(df,pd.Series):\n",
    "        df = df.to_frame()\n",
    "    return df\n",
    "    \n",
    "    \n",
    "\n",
    "import tqdm\n",
    "\n",
    "preds = []\n",
    "\n",
    "for label, t in tqdm.tqdm(best.items()):\n",
    "\n",
    "    t1 = t[-1]\n",
    "\n",
    "    preds.append(extract_cols(list(t[:-1]),list(label),t1))\n"
   ]
  },
  {
   "cell_type": "code",
   "execution_count": 12,
   "metadata": {},
   "outputs": [
    {
     "data": {
      "text/plain": [
       "[component   Temperatur     SECCI\n",
       " Datum                           \n",
       " 2003-12-31   -0.869754 -0.918796\n",
       " 2004-01-01   -0.882929 -0.851672\n",
       " 2004-01-02   -0.902703 -0.890058\n",
       " 2004-01-05   -0.873758 -0.468845\n",
       " 2004-01-06   -0.848926 -0.787904\n",
       " ...                ...       ...\n",
       " 2016-09-23    1.459841  0.718135\n",
       " 2016-09-26    1.479617  0.631484\n",
       " 2016-09-27    1.489024  0.744919\n",
       " 2016-09-28    1.411511  0.090860\n",
       " 2016-09-29    1.376613 -0.377585\n",
       " \n",
       " [2100 rows x 2 columns]]"
      ]
     },
     "execution_count": 12,
     "metadata": {},
     "output_type": "execute_result"
    }
   ],
   "source": [
    "preds"
   ]
  },
  {
   "cell_type": "code",
   "execution_count": 13,
   "metadata": {},
   "outputs": [
    {
     "name": "stderr",
     "output_type": "stream",
     "text": [
      "  0%|          | 0/1 [00:00<?, ?it/s]"
     ]
    },
    {
     "name": "stdout",
     "output_type": "stream",
     "text": [
      "('PO4', 'SiO4', 'NH4') ('NO2', 'NO3', 'NOx', 'NH4', 'PO4', 'SiO4')\n"
     ]
    },
    {
     "name": "stderr",
     "output_type": "stream",
     "text": [
      "100%|██████████| 1/1 [01:46<00:00, 106.23s/it]\n"
     ]
    }
   ],
   "source": [
    "for label, t in tqdm.tqdm([(('PO4', 'SiO4', 'NH4'), ('NO2', 'NO3', 'NOx', 'NH4', 'PO4', 'SiO4',train1_l))]):\n",
    "    print(label,t[:-1])\n",
    "    t1 = t[-1]\n",
    "\n",
    "    preds.append(extract_cols(list(t[:-1]),list(label),t1))"
   ]
  },
  {
   "cell_type": "code",
   "execution_count": 14,
   "metadata": {},
   "outputs": [],
   "source": [
    "ps = pd.concat(preds,axis = 1)"
   ]
  },
  {
   "cell_type": "code",
   "execution_count": 15,
   "metadata": {},
   "outputs": [
    {
     "data": {
      "text/html": [
       "<div>\n",
       "<style scoped>\n",
       "    .dataframe tbody tr th:only-of-type {\n",
       "        vertical-align: middle;\n",
       "    }\n",
       "\n",
       "    .dataframe tbody tr th {\n",
       "        vertical-align: top;\n",
       "    }\n",
       "\n",
       "    .dataframe thead th {\n",
       "        text-align: right;\n",
       "    }\n",
       "</style>\n",
       "<table border=\"1\" class=\"dataframe\">\n",
       "  <thead>\n",
       "    <tr style=\"text-align: right;\">\n",
       "      <th>component</th>\n",
       "      <th>Temperatur</th>\n",
       "      <th>SECCI</th>\n",
       "      <th>PO4</th>\n",
       "      <th>SiO4</th>\n",
       "      <th>NH4</th>\n",
       "    </tr>\n",
       "    <tr>\n",
       "      <th>Datum</th>\n",
       "      <th></th>\n",
       "      <th></th>\n",
       "      <th></th>\n",
       "      <th></th>\n",
       "      <th></th>\n",
       "    </tr>\n",
       "  </thead>\n",
       "  <tbody>\n",
       "    <tr>\n",
       "      <th>2003-12-31</th>\n",
       "      <td>-0.869754</td>\n",
       "      <td>-0.918796</td>\n",
       "      <td>0.862328</td>\n",
       "      <td>-0.301552</td>\n",
       "      <td>-0.596987</td>\n",
       "    </tr>\n",
       "    <tr>\n",
       "      <th>2004-01-01</th>\n",
       "      <td>-0.882929</td>\n",
       "      <td>-0.851672</td>\n",
       "      <td>0.967283</td>\n",
       "      <td>-0.391890</td>\n",
       "      <td>-0.490011</td>\n",
       "    </tr>\n",
       "    <tr>\n",
       "      <th>2004-01-02</th>\n",
       "      <td>-0.902703</td>\n",
       "      <td>-0.890058</td>\n",
       "      <td>0.888901</td>\n",
       "      <td>-0.389752</td>\n",
       "      <td>-0.767929</td>\n",
       "    </tr>\n",
       "    <tr>\n",
       "      <th>2004-01-05</th>\n",
       "      <td>-0.873758</td>\n",
       "      <td>-0.468845</td>\n",
       "      <td>0.889237</td>\n",
       "      <td>-0.537279</td>\n",
       "      <td>-0.534432</td>\n",
       "    </tr>\n",
       "    <tr>\n",
       "      <th>2004-01-06</th>\n",
       "      <td>-0.848926</td>\n",
       "      <td>-0.787904</td>\n",
       "      <td>1.016807</td>\n",
       "      <td>-0.459222</td>\n",
       "      <td>-0.585015</td>\n",
       "    </tr>\n",
       "    <tr>\n",
       "      <th>...</th>\n",
       "      <td>...</td>\n",
       "      <td>...</td>\n",
       "      <td>...</td>\n",
       "      <td>...</td>\n",
       "      <td>...</td>\n",
       "    </tr>\n",
       "    <tr>\n",
       "      <th>2016-09-23</th>\n",
       "      <td>1.459841</td>\n",
       "      <td>0.718135</td>\n",
       "      <td>-0.338560</td>\n",
       "      <td>-0.148154</td>\n",
       "      <td>0.378098</td>\n",
       "    </tr>\n",
       "    <tr>\n",
       "      <th>2016-09-26</th>\n",
       "      <td>1.479617</td>\n",
       "      <td>0.631484</td>\n",
       "      <td>-0.324055</td>\n",
       "      <td>-0.005316</td>\n",
       "      <td>0.376919</td>\n",
       "    </tr>\n",
       "    <tr>\n",
       "      <th>2016-09-27</th>\n",
       "      <td>1.489024</td>\n",
       "      <td>0.744919</td>\n",
       "      <td>-0.257111</td>\n",
       "      <td>-0.133080</td>\n",
       "      <td>0.454366</td>\n",
       "    </tr>\n",
       "    <tr>\n",
       "      <th>2016-09-28</th>\n",
       "      <td>1.411511</td>\n",
       "      <td>0.090860</td>\n",
       "      <td>-0.102400</td>\n",
       "      <td>-0.031334</td>\n",
       "      <td>0.306159</td>\n",
       "    </tr>\n",
       "    <tr>\n",
       "      <th>2016-09-29</th>\n",
       "      <td>1.376613</td>\n",
       "      <td>-0.377585</td>\n",
       "      <td>0.052656</td>\n",
       "      <td>0.127524</td>\n",
       "      <td>0.494642</td>\n",
       "    </tr>\n",
       "  </tbody>\n",
       "</table>\n",
       "<p>2100 rows × 5 columns</p>\n",
       "</div>"
      ],
      "text/plain": [
       "component   Temperatur     SECCI       PO4      SiO4       NH4\n",
       "Datum                                                         \n",
       "2003-12-31   -0.869754 -0.918796  0.862328 -0.301552 -0.596987\n",
       "2004-01-01   -0.882929 -0.851672  0.967283 -0.391890 -0.490011\n",
       "2004-01-02   -0.902703 -0.890058  0.888901 -0.389752 -0.767929\n",
       "2004-01-05   -0.873758 -0.468845  0.889237 -0.537279 -0.534432\n",
       "2004-01-06   -0.848926 -0.787904  1.016807 -0.459222 -0.585015\n",
       "...                ...       ...       ...       ...       ...\n",
       "2016-09-23    1.459841  0.718135 -0.338560 -0.148154  0.378098\n",
       "2016-09-26    1.479617  0.631484 -0.324055 -0.005316  0.376919\n",
       "2016-09-27    1.489024  0.744919 -0.257111 -0.133080  0.454366\n",
       "2016-09-28    1.411511  0.090860 -0.102400 -0.031334  0.306159\n",
       "2016-09-29    1.376613 -0.377585  0.052656  0.127524  0.494642\n",
       "\n",
       "[2100 rows x 5 columns]"
      ]
     },
     "execution_count": 15,
     "metadata": {},
     "output_type": "execute_result"
    }
   ],
   "source": [
    "ps"
   ]
  },
  {
   "cell_type": "code",
   "execution_count": 16,
   "metadata": {},
   "outputs": [
    {
     "data": {
      "text/html": [
       "<div>\n",
       "<style scoped>\n",
       "    .dataframe tbody tr th:only-of-type {\n",
       "        vertical-align: middle;\n",
       "    }\n",
       "\n",
       "    .dataframe tbody tr th {\n",
       "        vertical-align: top;\n",
       "    }\n",
       "\n",
       "    .dataframe thead th {\n",
       "        text-align: right;\n",
       "    }\n",
       "</style>\n",
       "<table border=\"1\" class=\"dataframe\">\n",
       "  <thead>\n",
       "    <tr style=\"text-align: right;\">\n",
       "      <th>component</th>\n",
       "      <th>SECCI</th>\n",
       "    </tr>\n",
       "    <tr>\n",
       "      <th>Datum</th>\n",
       "      <th></th>\n",
       "    </tr>\n",
       "  </thead>\n",
       "  <tbody>\n",
       "    <tr>\n",
       "      <th>2003-12-31</th>\n",
       "      <td>-0.918796</td>\n",
       "    </tr>\n",
       "    <tr>\n",
       "      <th>2004-01-01</th>\n",
       "      <td>-0.851672</td>\n",
       "    </tr>\n",
       "    <tr>\n",
       "      <th>2004-01-02</th>\n",
       "      <td>-0.890058</td>\n",
       "    </tr>\n",
       "    <tr>\n",
       "      <th>2004-01-05</th>\n",
       "      <td>-0.468845</td>\n",
       "    </tr>\n",
       "    <tr>\n",
       "      <th>2004-01-06</th>\n",
       "      <td>-0.787904</td>\n",
       "    </tr>\n",
       "    <tr>\n",
       "      <th>...</th>\n",
       "      <td>...</td>\n",
       "    </tr>\n",
       "    <tr>\n",
       "      <th>2016-09-23</th>\n",
       "      <td>0.718135</td>\n",
       "    </tr>\n",
       "    <tr>\n",
       "      <th>2016-09-26</th>\n",
       "      <td>0.631484</td>\n",
       "    </tr>\n",
       "    <tr>\n",
       "      <th>2016-09-27</th>\n",
       "      <td>0.744919</td>\n",
       "    </tr>\n",
       "    <tr>\n",
       "      <th>2016-09-28</th>\n",
       "      <td>0.090860</td>\n",
       "    </tr>\n",
       "    <tr>\n",
       "      <th>2016-09-29</th>\n",
       "      <td>-0.377585</td>\n",
       "    </tr>\n",
       "  </tbody>\n",
       "</table>\n",
       "<p>2100 rows × 1 columns</p>\n",
       "</div>"
      ],
      "text/plain": [
       "component      SECCI\n",
       "Datum               \n",
       "2003-12-31 -0.918796\n",
       "2004-01-01 -0.851672\n",
       "2004-01-02 -0.890058\n",
       "2004-01-05 -0.468845\n",
       "2004-01-06 -0.787904\n",
       "...              ...\n",
       "2016-09-23  0.718135\n",
       "2016-09-26  0.631484\n",
       "2016-09-27  0.744919\n",
       "2016-09-28  0.090860\n",
       "2016-09-29 -0.377585\n",
       "\n",
       "[2100 rows x 1 columns]"
      ]
     },
     "execution_count": 16,
     "metadata": {},
     "output_type": "execute_result"
    }
   ],
   "source": [
    "ps = ps.drop(\"Temperatur\",axis=1)\n",
    "ps = ps.drop(\"PO4\",axis=1)\n",
    "ps = ps.drop(\"SiO4\",axis=1)\n",
    "ps = ps.drop(\"NH4\",axis=1)\n",
    "ps"
   ]
  },
  {
   "cell_type": "code",
   "execution_count": 17,
   "metadata": {},
   "outputs": [
    {
     "name": "stdout",
     "output_type": "stream",
     "text": [
      "SECCI\n"
     ]
    }
   ],
   "source": [
    "submission_ds = pd.read_csv('../submissions_professional/p10.csv', delimiter=';',skiprows=[1])\n",
    "submission_ds.index = pd.to_datetime(submission_ds.Datum,format='%d.%m.%Y')\n",
    "\n",
    "columns= ['SECCI', 'Temperatur', 'Salinität', 'SiO4', 'PO4', 'NO2', 'NO3', 'NOx', 'NH4']\n",
    "means = [ 3.69384615,10.81260073,32.34811062,6.81071795,0.58017582,0.52419048,8.89443223,9.41987546,1.72098901]\n",
    "variance =  [ 3.32627715,23.66155551,1.01593854,20.60446425,0.14762077,0.46926596,68.50472915,71.50321661,2.25913682]\n",
    "means = pd.Series(means,index = columns)\n",
    "stds  = pd.Series(np.sqrt(variance),index = columns)\n",
    "\n",
    "for col in ps.columns:\n",
    "    print(col)\n",
    "    if col in means.index:\n",
    "        \n",
    "        ps[col] = (ps[col] * stds[col]) + means[col]\n",
    "\n",
    "\n",
    "submission_ds.update(ps)"
   ]
  },
  {
   "cell_type": "code",
   "execution_count": 22,
   "metadata": {},
   "outputs": [],
   "source": [
    "submission_ds\n",
    "submission_ds.to_csv('../submissions_professional/p15.csv',sep = ';',index= False)\n",
    "with open(\"../data/bbdc/bbdc_2023_AWI_data_evaluate_skeleton_professional.csv\",\"r\") as f:\n",
    "    metrics = f.read().splitlines()[1]\n",
    "with open('../submissions_professional/p15.csv',\"r\") as f:\n",
    "    lines = f.read().splitlines()\n",
    "lines.insert(1,metrics)\n",
    "\n",
    "\n",
    "with open('../submissions_professional/p15.csv',\"w\") as f:\n",
    "    f.write(\"\\n\".join(lines))"
   ]
  }
 ],
 "metadata": {
  "kernelspec": {
   "display_name": "evw",
   "language": "python",
   "name": "python3"
  },
  "language_info": {
   "codemirror_mode": {
    "name": "ipython",
    "version": 3
   },
   "file_extension": ".py",
   "mimetype": "text/x-python",
   "name": "python",
   "nbconvert_exporter": "python",
   "pygments_lexer": "ipython3",
   "version": "3.9.12"
  },
  "orig_nbformat": 4
 },
 "nbformat": 4,
 "nbformat_minor": 2
}
